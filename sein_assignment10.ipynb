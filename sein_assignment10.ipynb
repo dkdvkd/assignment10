{
 "cells": [
  {
   "cell_type": "markdown",
   "metadata": {},
   "source": [
    "# Assignment10\n",
    "\n",
    "# 20142740 박세인\n",
    "\n",
    "# https://github.com/dkdvkd/assignment10"
   ]
  },
  {
   "cell_type": "markdown",
   "metadata": {},
   "source": [
    "# import packages"
   ]
  },
  {
   "cell_type": "code",
   "execution_count": 1,
   "metadata": {},
   "outputs": [],
   "source": [
    "import matplotlib.pyplot as plt\n",
    "import numpy as np\n",
    "import pandas as pd"
   ]
  },
  {
   "cell_type": "markdown",
   "metadata": {},
   "source": [
    "# given data"
   ]
  },
  {
   "cell_type": "code",
   "execution_count": 2,
   "metadata": {},
   "outputs": [],
   "source": [
    "file_data_train = \"mnist_train.csv\"\n",
    "file_data_test  = \"mnist_test.csv\"\n",
    "\n",
    "h_data_train    = open(file_data_train, \"r\")\n",
    "h_data_test     = open(file_data_test, \"r\")\n",
    "\n",
    "data_train      = h_data_train.readlines()\n",
    "data_test       = h_data_test.readlines()\n",
    "\n",
    "h_data_train.close()\n",
    "h_data_test.close()\n",
    "\n",
    "size_row    = 28    # height of the image\n",
    "size_col    = 28    # width of the image\n",
    "\n",
    "num_train   = len(data_train)   # number of training images\n",
    "num_test    = len(data_test)    # number of testing images"
   ]
  },
  {
   "cell_type": "markdown",
   "metadata": {},
   "source": [
    "# do normalize, get distance"
   ]
  },
  {
   "cell_type": "code",
   "execution_count": 3,
   "metadata": {},
   "outputs": [],
   "source": [
    "# normalize the values of the input data to be [0, 1]\n",
    "def normalize(data):\n",
    "    data_normalized = (data - min(data)) / (max(data) - min(data))\n",
    "    return(data_normalized)\n",
    "\n",
    "\n",
    "# example of distance function between two vectors x and y\n",
    "def distance(x, y):\n",
    "    d = (x - y) ** 2\n",
    "    s = np.sum(d)\n",
    "    # r = np.sqrt(s)\n",
    "    return(s)"
   ]
  },
  {
   "cell_type": "markdown",
   "metadata": {},
   "source": [
    "# train data: label and image"
   ]
  },
  {
   "cell_type": "code",
   "execution_count": 4,
   "metadata": {},
   "outputs": [
    {
     "data": {
      "image/png": "[encoded data removed]",
      "text/plain": [
       "<Figure size 432x288 with 150 Axes>"
      ]
     },
     "metadata": {
      "needs_background": "light"
     },
     "output_type": "display_data"
    }
   ],
   "source": [
    "# make a matrix each column of which represents an images in a vector form \n",
    "list_image_train    = np.empty((size_row * size_col, num_train), dtype=float)\n",
    "list_label_train    = np.empty(num_train, dtype=int)\n",
    "\n",
    "count = 0\n",
    "\n",
    "for line in data_train:\n",
    "    line_data   = line.split(',')\n",
    "    label       = line_data[0]\n",
    "    im_vector   = np.asfarray(line_data[1:])\n",
    "    im_vector   = normalize(im_vector)\n",
    "\n",
    "    list_label_train[count]     = label\n",
    "    list_image_train[:, count]  = im_vector    \n",
    "\n",
    "    count += 1\n",
    "    \n",
    "# plot first 150 images out of 10,000 with their labels\n",
    "\n",
    "f1 = plt.figure(1)\n",
    "for i in range(150):\n",
    "    label       = list_label_train[i]\n",
    "    im_vector   = list_image_train[:, i]\n",
    "    im_matrix   = im_vector.reshape((size_row, size_col))\n",
    "    \n",
    "    plt.subplot(10, 15, i+1)#i+1\n",
    "    plt.subplots_adjust(hspace=5.5, wspace=0.3)\n",
    "    plt.title(label)\n",
    "    plt.imshow(im_matrix, cmap='Greys', interpolation='None')\n",
    "\n",
    "\n",
    "    frame   = plt.gca()\n",
    "    frame.axes.get_xaxis().set_visible(False)\n",
    "    frame.axes.get_yaxis().set_visible(False)\n",
    "\n",
    "#plt.tight_layout()\n",
    "plt.show()\n"
   ]
  },
  {
   "cell_type": "markdown",
   "metadata": {},
   "source": [
    "# test data"
   ]
  },
  {
   "cell_type": "code",
   "execution_count": 5,
   "metadata": {},
   "outputs": [],
   "source": [
    "list_image_test     = np.empty((size_row * size_col, num_test), dtype=float)\n",
    "list_label_test     = np.empty(num_test, dtype=int)\n",
    "\n",
    "count = 0\n",
    "\n",
    "for line in data_test:\n",
    "\n",
    "    line_data   = line.split(',')\n",
    "    label       = line_data[0]\n",
    "    im_vector   = np.asfarray(line_data[1:])\n",
    "    im_vector   = normalize(im_vector)\n",
    "\n",
    "    list_label_test[count]      = label\n",
    "    list_image_test[:, count]   = im_vector    \n",
    "\n",
    "    count += 1"
   ]
  },
  {
   "cell_type": "markdown",
   "metadata": {},
   "source": [
    "# average image of each label"
   ]
  },
  {
   "cell_type": "code",
   "execution_count": 6,
   "metadata": {},
   "outputs": [
    {
     "data": {
      "image/png": "[encoded data removed]",
      "text/plain": [
       "<Figure size 432x288 with 10 Axes>"
      ]
     },
     "metadata": {
      "needs_background": "light"
     },
     "output_type": "display_data"
    }
   ],
   "source": [
    "# plot the average image of all the images for each digit\n",
    "f2 = plt.figure(2)\n",
    "\n",
    "im_average  = np.zeros((size_row * size_col, 10), dtype=float)\n",
    "im_count    = np.zeros(10, dtype=int)\n",
    "\n",
    "for i in range(num_train):\n",
    "    im_average[:, list_label_train[i]] += list_image_train[:, i]\n",
    "    im_count[list_label_train[i]] += 1\n",
    "    plt.imshow(list_image_train[:, i].reshape((size_row, size_col)),cmap='Greys', interpolation='None')\n",
    "\n",
    "\n",
    "for i in range(10):\n",
    "    im_average[:, i] /= im_count[i]\n",
    "    \n",
    "    plt.subplot(2, 5, i+1)\n",
    "    plt.title(i)\n",
    "    plt.imshow(im_average[:,i].reshape((size_row, size_col)), cmap='Greys', interpolation='None') \n",
    "\n",
    "    frame   = plt.gca()\n",
    "    frame.axes.get_xaxis().set_visible(False)\n",
    "    frame.axes.get_yaxis().set_visible(False)\n",
    "\n",
    "plt.show()"
   ]
  },
  {
   "cell_type": "markdown",
   "metadata": {},
   "source": [
    "# feature function"
   ]
  },
  {
   "cell_type": "code",
   "execution_count": 7,
   "metadata": {},
   "outputs": [],
   "source": [
    "def makeR(p):\n",
    "    mu, sigma = 0, 1 # mean and standard deviation\n",
    "    R = []           \n",
    "    for i in range(p):\n",
    "        s = np.random.normal(mu, sigma, size_row * size_col)\n",
    "        R.append(s)\n",
    "    return R\n",
    "\n",
    "def makeAforTrain(R):\n",
    "    A = np.array(R)\n",
    "    A = np.matmul(A, list_image_train)\n",
    "    A = np.transpose(A)\n",
    "    return A\n",
    "\n",
    "def makeAforTest(R):\n",
    "    A = np.array(R)\n",
    "    A = np.matmul(A, list_image_test)\n",
    "    A = np.transpose(A)\n",
    "    return A"
   ]
  },
  {
   "cell_type": "markdown",
   "metadata": {},
   "source": [
    "# define 10 y"
   ]
  },
  {
   "cell_type": "code",
   "execution_count": 8,
   "metadata": {},
   "outputs": [
    {
     "name": "stdout",
     "output_type": "stream",
     "text": [
      "[5 0 4 ... 5 6 8]\n",
      "y: 0 classification: [-1.  1. -1. ... -1. -1. -1.] \n",
      "y: 1 classification: [-1. -1. -1. ... -1. -1. -1.] \n",
      "y: 2 classification: [-1. -1. -1. ... -1. -1. -1.] \n",
      "y: 3 classification: [-1. -1. -1. ... -1. -1. -1.] \n",
      "y: 4 classification: [-1. -1.  1. ... -1. -1. -1.] \n",
      "y: 5 classification: [ 1. -1. -1. ...  1. -1. -1.] \n",
      "y: 6 classification: [-1. -1. -1. ... -1.  1. -1.] \n",
      "y: 7 classification: [-1. -1. -1. ... -1. -1. -1.] \n",
      "y: 8 classification: [-1. -1. -1. ... -1. -1.  1.] \n",
      "y: 9 classification: [-1. -1. -1. ... -1. -1. -1.] \n"
     ]
    }
   ],
   "source": [
    "y_trains = []\n",
    "\n",
    "# label : 0 ~ 9\n",
    "for label in range(10):\n",
    "    y_train = np.empty(num_train) # train label\n",
    "    for i in range(num_train):    \n",
    "        if list_label_train[i] != label: #if label: correct\n",
    "            y_train[i] = -1              # assign - 1\n",
    "        else:                          #if label: incorrect\n",
    "            y_train[i] = 1               # assign 1\n",
    "        \n",
    "    y_trains.append(y_train)\n",
    "        \n",
    "print(list_label_train)\n",
    "\n",
    "for i in range(10):\n",
    "    print(\"y: {0} classification: {list} \".format(i, list=y_trains[i]))"
   ]
  },
  {
   "cell_type": "markdown",
   "metadata": {},
   "source": [
    "# parameter  $\\theta$"
   ]
  },
  {
   "cell_type": "code",
   "execution_count": 9,
   "metadata": {},
   "outputs": [],
   "source": [
    "def solve_model_parameter(A,b):\n",
    "    if  np.shape(b)[0] !=1:\n",
    "        numdata = np.shape(b)[0]\n",
    "        b = b.reshape((numdata, 1))\n",
    "    numfeature = np.shape(A)[1]\n",
    "    Q ,R = np.linalg.qr(A)\n",
    "    q =np.matmul(Q.T, b)\n",
    "    theta_vector = np.zeros((numfeature,1),dtype=float)\n",
    "    for i in range(numfeature):\n",
    "        n = numfeature - i # 1<=n <= numfeature (decreasing)\n",
    "        if R[n-1,n-1] == 0 : # R_(n,n)\n",
    "            theta_vector[n-1,0] = 0 # theta_vector_(n,1)\n",
    "        else:\n",
    "            rthetasum =0 \n",
    "            for j in range (numfeature-n):\n",
    "                l = numfeature- j # 1<= l <=N ( decreasing )\n",
    "                rthetasum += R[n -1 ,l-1]*theta_vector[l-1,0]\n",
    "            theta_vector[n-1,0] = (q[n-1,0] - rthetasum)/R[n-1,n-1]\n",
    "    return theta_vector"
   ]
  },
  {
   "cell_type": "markdown",
   "metadata": {},
   "source": [
    "# classifier"
   ]
  },
  {
   "cell_type": "code",
   "execution_count": 10,
   "metadata": {},
   "outputs": [
    {
     "name": "stdout",
     "output_type": "stream",
     "text": [
      "     0     1    2    3    4    5    6    7    8    9\n",
      "0  933     1    3    4    1    8   18    1    8    3\n",
      "1    0  1102    6    1    4    2    4    0   15    1\n",
      "2   17    53  798   32   18    1   46   20   42    5\n",
      "3    8    14   31  848    3   19   10   30   32   15\n",
      "4    3    19    7    4  859    4    7    2   16   61\n",
      "5   18    15    5  107   14  589   22   15   82   25\n",
      "6   25     8    7    0   16   25  866    0   11    0\n",
      "7    4    34   20    7   24    0    1  873    1   64\n",
      "8   18    47   12   39   36   56   14   12  716   24\n",
      "9   17    11    3   18   64    3    0   80   12  801\n"
     ]
    }
   ],
   "source": [
    "def classifier(p):\n",
    "    \n",
    "    r = makeR(p)                # r\n",
    "    A_train = makeAforTrain(r)  # A for train\n",
    "    o = []                      # 10개의 model parameter\n",
    "    for i in range(10):\n",
    "        o.append(solve_model_parameter(A_train,y_trains[i])) # find model parameter\n",
    "        \n",
    "    A_test = makeAforTest(r)    # A for test\n",
    "    predicted_y = []            # 10개의 값\n",
    "    for i in range(10):\n",
    "        predicted_y.append(np.matmul(A_test, o[i]))\n",
    "    # 10개 중 가장 큰 값\n",
    "    predicted = np.empty(num_test, dtype=int)\n",
    "    for i in range(num_test):\n",
    "        best = 0 #predicted_y[0][i]\n",
    "        for j in range(1,10):\n",
    "            if predicted_y[best][i] < predicted_y[j][i]:\n",
    "                best = j\n",
    "        predicted[i] = best\n",
    "        \n",
    "    list = np.zeros((10,10), dtype=int)\n",
    "        \n",
    "    for i in range(num_test):\n",
    "        pred = predicted[i]\n",
    "        ans = list_label_test[i]\n",
    "        list[pred][ans] += 1 \n",
    "    \n",
    "    df = pd.DataFrame({'0':list[0,:],'1':list[1,:],'2':list[2,:]\n",
    "                       ,'3':list[3,:],'4':list[4,:],'5':list[5,:]\n",
    "                       ,'6':list[6,:],'7':list[7,:]\n",
    "                     ,'8':list[8,:],'9':list[9,:]})       \n",
    "    return df\n",
    "\n",
    "cfmatrix = classifier(2**10) # p= 2^10\n",
    "print(cfmatrix)"
   ]
  },
  {
   "cell_type": "markdown",
   "metadata": {},
   "source": [
    "# get score"
   ]
  },
  {
   "cell_type": "code",
   "execution_count": 11,
   "metadata": {},
   "outputs": [
    {
     "name": "stdout",
     "output_type": "stream",
     "text": [
      "0.9074662493188853\n"
     ]
    }
   ],
   "source": [
    "def f1score(matrix):\n",
    "    f1 = np.empty(10)\n",
    "    for i in range(10):\n",
    "        tp = 0\n",
    "        fp = 0\n",
    "        fn = 0\n",
    "        precision = 0\n",
    "        recall = 0\n",
    "        for j in range(10):        \n",
    "            if i == j:\n",
    "                tp = tp + matrix.iloc[i,j]\n",
    "            elif i != j:\n",
    "                fn = fn + matrix.iloc[i,j]\n",
    "            elif i != j:\n",
    "                fp = fp + matrix.iloc[j,i]\n",
    "            \n",
    "        precision = tp / (tp + fp)\n",
    "        recall = tp / (tp + fn)\n",
    "    \n",
    "        f1[i] = 2 * (precision * recall) / (precision + recall)\n",
    "        \n",
    "    return np.mean(f1)\n",
    "\n",
    "print(f1score(cfmatrix))"
   ]
  },
  {
   "cell_type": "markdown",
   "metadata": {},
   "source": [
    "# different parameters"
   ]
  },
  {
   "cell_type": "code",
   "execution_count": 12,
   "metadata": {},
   "outputs": [
    {
     "name": "stdout",
     "output_type": "stream",
     "text": [
      "p: 128\n",
      "     0     1    2    3    4    5    6    7    8    9\n",
      "0  934     0    6    2    0    7   18    3   10    0\n",
      "1    0  1099    2    2    2    2    5    1   22    0\n",
      "2   17    62  798   24   14    2   34   29   45    7\n",
      "3    8    18   28  853    3   13   11   35   29   12\n",
      "4    2    24    7    4  839    6   15    2   13   70\n",
      "5   24    20    8  123   29  531   32   23   75   27\n",
      "6   18    10    8    1   16   15  885    1    4    0\n",
      "7    2    46   18    7   16    0    2  884    4   49\n",
      "8   17    61   11   42   24   33   23   24  722   17\n",
      "9   17    16   10   18   75    2    3   65   10  793\n",
      "score: 0.9032117908348141\n",
      "---------------------------------------------------\n",
      "p: 256\n",
      "     0     1    2    3    4    5    6    7    8    9\n",
      "0  940     1    1    2    0    9   17    1    9    0\n",
      "1    0  1102    5    1    1    2    5    2   17    0\n",
      "2   18    58  802   28   16    1   43   19   43    4\n",
      "3    5    17   25  876    3   14   13   29   18   10\n",
      "4    0    23    7    1  868    3   11    3   16   50\n",
      "5   20    12    4   96   20  613   25   20   68   14\n",
      "6   17    10    5    2   15   16  882    0   11    0\n",
      "7    6    40   20    8   17    1    2  882    2   50\n",
      "8   17    55    8   29   35   44   18   10  735   23\n",
      "9   18    13    6   16   59    2    3   75   12  805\n",
      "score: 0.9150901644686076\n",
      "---------------------------------------------------\n",
      "p: 512\n",
      "     0     1    2    3    4    5    6    7    8    9\n",
      "0  941     0    2    2    0    9   15    1    8    2\n",
      "1    0  1107    3    2    1    1    5    2   14    0\n",
      "2   17    57  815   27   17    0   38   18   38    5\n",
      "3    4    15   23  886    2   16   10   22   20   12\n",
      "4    0    23    6    3  872    3   11    1   14   49\n",
      "5   22    16    3   83   18  621   23   13   70   23\n",
      "6   18     9    9    0   20   20  873    0    9    0\n",
      "7    5    35   16    7   19    0    2  885    4   55\n",
      "8   17    54   10   33   27   44   15   11  742   21\n",
      "9   16    11    2   14   72    0    1   76   13  804\n",
      "score: 0.9176430234655646\n",
      "---------------------------------------------------\n",
      "p: 1024\n",
      "     0     1    2    3    4    5    6    7    8    9\n",
      "0  940     0    1    4    1    8   16    4    4    2\n",
      "1    0  1111    4    2    1    3    4    4    6    0\n",
      "2   22    69  759   32   14    2   45   53   26   10\n",
      "3    7    18   23  857    5   28   13   33   11   15\n",
      "4    1    25    7    1  860    6   11   12    6   53\n",
      "5   21    15    5   71   24  643   25   21   47   20\n",
      "6   23     9   11    2   16   17  875    1    4    0\n",
      "7    2    35   11    3   21    0    1  910    0   45\n",
      "8   37    67   18   40   55   80   25   42  580   30\n",
      "9   17    13    3   10   82    2    1  121    6  754\n",
      "score: 0.9001307655743984\n",
      "---------------------------------------------------\n",
      "p: 2048\n",
      "     0     1    2    3    4    5    6    7    8    9\n",
      "0  920     0    0    5    4   12   12    2   23    2\n",
      "1    0  1084    3    7    7    1    6    2   25    0\n",
      "2   20    57  668   55   36    2   84   18   88    4\n",
      "3   12    17   12  825    9   32   20   21   48   14\n",
      "4    3    20    7    6  856    7   17    1   14   51\n",
      "5   19    14    4   47   25  619   33   14   93   24\n",
      "6   30     5   17    2   31   18  841    0   13    1\n",
      "7    9    33   13   12   38    2    5  829   16   71\n",
      "8   13    44    8   30   70   55   38    7  687   22\n",
      "9   15    11    6   12   98    5    2   71   23  766\n",
      "score: 0.8899387710217617\n",
      "---------------------------------------------------\n"
     ]
    }
   ],
   "source": [
    "maxp = 0\n",
    "maxf = 0\n",
    "\n",
    "for i in [2**7, 2**8, 2**9, 2**10, 2**11]: \n",
    "    matrix = classifier(i)\n",
    "    print(\"p: {}\".format(i))\n",
    "    print(matrix)\n",
    "    print(\"score: {}\".format(f1score(matrix)))\n",
    "    print(\"---------------------------------------------------\")\n",
    "    \n",
    "    if(f1score(matrix)>maxf):\n",
    "        maxf = f1score(matrix)\n",
    "        maxp = i\n",
    "        "
   ]
  },
  {
   "cell_type": "markdown",
   "metadata": {},
   "source": [
    "# find max"
   ]
  },
  {
   "cell_type": "code",
   "execution_count": 13,
   "metadata": {},
   "outputs": [
    {
     "name": "stdout",
     "output_type": "stream",
     "text": [
      "maximum of p:  512\n",
      "maximum of f:  0.9176430234655646\n"
     ]
    }
   ],
   "source": [
    "print(\"maximum of p: \",maxp)\n",
    "print(\"maximum of f: \",maxf)"
   ]
  }
 ],
 "metadata": {
  "kernelspec": {
   "display_name": "Python 3",
   "language": "python",
   "name": "python3"
  },
  "language_info": {
   "codemirror_mode": {
    "name": "ipython",
    "version": 3
   },
   "file_extension": ".py",
   "mimetype": "text/x-python",
   "name": "python",
   "nbconvert_exporter": "python",
   "pygments_lexer": "ipython3",
   "version": "3.7.0"
  }
 },
 "nbformat": 4,
 "nbformat_minor": 2
}
